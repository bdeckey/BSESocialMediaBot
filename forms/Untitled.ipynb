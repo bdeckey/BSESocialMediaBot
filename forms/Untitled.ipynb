{
 "cells": [
  {
   "cell_type": "code",
   "execution_count": 1,
   "metadata": {},
   "outputs": [
    {
     "name": "stdout",
     "output_type": "stream",
     "text": [
      "The following sheets are available\n",
      "Responses - 1AX8I4ts1VPyyCDxizclkyIvVHNz1M43ae2YxZANK4pQ\n",
      "['Timestamp', 'What is your name?', 'What is your Banner ID?', 'Which platform(s)?', 'Enter text for the post', 'Do you want to post an image as well?', 'Upload your image', 'Email Address']\n",
      "['10/27/2017 20:26:47', 'Kevin', 'asdlfkj', 'Twitter, Instagram, Facebook', 'weifhoqwd', 'Yes', 'https://drive.google.com/open?id=0B2XWKkYW7FwWVkxKczJxYlJGbXM', '']\n",
      "['10/27/2017 20:27:41', 'dsf', 'asdf', 'Twitter', 'sdf', 'No', '', '']\n",
      "['10/27/2017 20:37:51', 'asdf', 'asdf', 'Twitter, Instagram, Facebook', '3', 'Yes', 'https://drive.google.com/open?id=0B2XWKkYW7FwWbnNwZ1dLWVJNbWs', '']\n",
      "[['Timestamp', 'What is your name?', 'What is your Banner ID?', 'Which platform(s)?', 'Enter text for the post', 'Do you want to post an image as well?', 'Upload your image', 'Email Address'], ['10/27/2017 20:26:47', 'Kevin', 'asdlfkj', 'Twitter, Instagram, Facebook', 'weifhoqwd', 'Yes', 'https://drive.google.com/open?id=0B2XWKkYW7FwWVkxKczJxYlJGbXM', ''], ['10/27/2017 20:27:41', 'dsf', 'asdf', 'Twitter', 'sdf', 'No', '', ''], ['10/27/2017 20:37:51', 'asdf', 'asdf', 'Twitter, Instagram, Facebook', '3', 'Yes', 'https://drive.google.com/open?id=0B2XWKkYW7FwWbnNwZ1dLWVJNbWs', '']]\n"
     ]
    }
   ],
   "source": [
    "# https://gspread.readthedocs.io/en/stable/#main-interface\n",
    "# http://pbpython.com/pandas-google-forms-part1.html\n",
    "\n",
    "from __future__ import print_function\n",
    "import gspread\n",
    "#from apiclient.discovery import build\n",
    "from oauth2client.client import SignedJwtAssertionCredentials\n",
    "import pandas as pd\n",
    "import json\n",
    "import numpy as np\n",
    "\n",
    "# helpers\n",
    "\n",
    "def print_list_as_columns(l):\n",
    "    for entry in l:\n",
    "        print(entry, \"| \", end=\"\")\n",
    "    print()\n",
    "\n",
    "SCOPE = [\"https://spreadsheets.google.com/feeds\"]\n",
    "SECRETS_FILE = \"secretKey.json\"\n",
    "SPREADSHEET = \"Responses\"\n",
    "# Based on docs here - http://gspread.readthedocs.org/en/latest/oauth2.html\n",
    "# Load in the secret JSON key (must be a service account)\n",
    "json_key = json.load(open(SECRETS_FILE))\n",
    "# Authenticate using the signed key\n",
    "credentials = SignedJwtAssertionCredentials(json_key['client_email'],\n",
    "                                            json_key['private_key'], SCOPE)\n",
    "\n",
    "gc = gspread.authorize(credentials)\n",
    "\n",
    "print(\"The following sheets are available\")\n",
    "\n",
    "sheet_id_list = []\n",
    "\n",
    "for sheet in gc.openall():\n",
    "    print(\"{} - {}\".format(sheet.title, sheet.id))\n",
    "    sheet_id_list.append(sheet.id)\n",
    "\n",
    "response_spreadsheet = gc.open_by_key(sheet_id_list[0])\n",
    "#h ttps://stackoverflow.com/questions/33713084/download-link-for-google-spreadsheets-csv-export-with-multiple-sheets\n",
    "# response_csv = \"https://docs.google.com/spreadsheets/d/1AX8I4ts1VPyyCDxizclkyIvVHNz1M43ae2YxZANK4pQ/gviz/tq?tqx=out:csv&sheet={sheetname}\"\n",
    "\n",
    "worksheets_list = response_spreadsheet.worksheets()\n",
    "\n",
    "for row in worksheets_list[0].get_all_values():\n",
    "#     print_list_as_columns(row)\n",
    "    print(row)\n",
    "    \n",
    "print(worksheets_list[0].get_all_values())"
   ]
  },
  {
   "cell_type": "code",
   "execution_count": null,
   "metadata": {},
   "outputs": [],
   "source": []
  }
 ],
 "metadata": {
  "kernelspec": {
   "display_name": "Python 2",
   "language": "python",
   "name": "python2"
  },
  "language_info": {
   "codemirror_mode": {
    "name": "ipython",
    "version": 2
   },
   "file_extension": ".py",
   "mimetype": "text/x-python",
   "name": "python",
   "nbconvert_exporter": "python",
   "pygments_lexer": "ipython2",
   "version": "2.7.12"
  }
 },
 "nbformat": 4,
 "nbformat_minor": 2
}
